{
 "cells": [
  {
   "cell_type": "markdown",
   "metadata": {},
   "source": [
    "### Install Libraries and other Dependencies"
   ]
  },
  {
   "cell_type": "code",
   "execution_count": null,
   "metadata": {
    "collapsed": true
   },
   "outputs": [],
   "source": [
    "!pip install gensim"
   ]
  },
  {
   "cell_type": "code",
   "execution_count": null,
   "metadata": {
    "collapsed": true
   },
   "outputs": [],
   "source": [
    "!pip install pprint"
   ]
  },
  {
   "cell_type": "code",
   "execution_count": null,
   "metadata": {
    "collapsed": true
   },
   "outputs": [],
   "source": [
    "!pip pyLDAvis"
   ]
  },
  {
   "cell_type": "markdown",
   "metadata": {},
   "source": [
    "### Import Libraries and other Dependencies"
   ]
  },
  {
   "cell_type": "code",
   "execution_count": 1,
   "metadata": {
    "collapsed": true
   },
   "outputs": [],
   "source": [
    "%matplotlib inline\n",
    "from matplotlib import pyplot as plt\n",
    "from gensim.models import LdaModel, CoherenceModel\n",
    "from gensim.corpora import Dictionary\n",
    "import re\n",
    "from nltk.tokenize import RegexpTokenizer\n",
    "from nltk.stem.wordnet import WordNetLemmatizer\n",
    "from nltk.corpus import stopwords\n",
    "import logging\n",
    "import warnings\n",
    "from pprint import pprint\n",
    "import pyLDAvis\n",
    "import pyLDAvis.gensim\n",
    "import pandas as pd\n",
    "import seaborn as sns"
   ]
  },
  {
   "cell_type": "code",
   "execution_count": 2,
   "metadata": {
    "collapsed": true
   },
   "outputs": [],
   "source": [
    "# ignore warnings\n",
    "warnings.filterwarnings('ignore')"
   ]
  },
  {
   "cell_type": "code",
   "execution_count": 3,
   "metadata": {
    "collapsed": true
   },
   "outputs": [],
   "source": [
    "# get updates\n",
    "logging.basicConfig(\n",
    "    format='%(asctime)s : %(levelname)s : %(message)s', \n",
    "    level=logging.INFO)"
   ]
  },
  {
   "cell_type": "markdown",
   "metadata": {},
   "source": [
    "### Load and Prepare the Dataset\n",
    "Concatenate train and test sets for article. From the dataset,\n",
    "only the headlines of each article is provided. Hence \n",
    "concatenating train and test data to train one article."
   ]
  },
  {
   "cell_type": "code",
   "execution_count": 4,
   "metadata": {
    "collapsed": true
   },
   "outputs": [],
   "source": [
    "def loadText(file):\n",
    "    with open(file, 'r') as text:\n",
    "        doc = text.readlines()\n",
    "    return doc"
   ]
  },
  {
   "cell_type": "code",
   "execution_count": 5,
   "metadata": {
    "collapsed": true
   },
   "outputs": [],
   "source": [
    "train_doc = loadText('train.txt')"
   ]
  },
  {
   "cell_type": "code",
   "execution_count": 6,
   "metadata": {},
   "outputs": [
    {
     "data": {
      "text/plain": [
       "['Test to predict breast cancer relapse is approved\\n',\n",
       " 'Two Hussein allies are hanged, Iraqi official says\\n',\n",
       " 'Sights and sounds from CES\\n',\n",
       " 'Schuey sees Ferrari unveil new car\\n',\n",
       " 'Closings and cancellations top advice on flu outbreak\\n']"
      ]
     },
     "execution_count": 6,
     "metadata": {},
     "output_type": "execute_result"
    }
   ],
   "source": [
    "train_doc[:5]"
   ]
  },
  {
   "cell_type": "code",
   "execution_count": 7,
   "metadata": {},
   "outputs": [
    {
     "name": "stdout",
     "output_type": "stream",
     "text": [
      "size of train set: 1000\n"
     ]
    }
   ],
   "source": [
    "print(\"size of train set: {}\".format(len(train_doc)))"
   ]
  },
  {
   "cell_type": "code",
   "execution_count": 8,
   "metadata": {
    "collapsed": true
   },
   "outputs": [],
   "source": [
    "test_doc = loadText('test.txt')"
   ]
  },
  {
   "cell_type": "code",
   "execution_count": 9,
   "metadata": {},
   "outputs": [
    {
     "data": {
      "text/plain": [
       "['Mortar assault leaves at least 18 dead\\n',\n",
       " 'Goal delight for Sheva\\n',\n",
       " 'Nigeria hostage feared dead is freed\\n',\n",
       " 'Bombers kill shoppers\\n',\n",
       " 'Vegetables, not fruit, slow brain decline\\n']"
      ]
     },
     "execution_count": 9,
     "metadata": {},
     "output_type": "execute_result"
    }
   ],
   "source": [
    "test_doc[:5]"
   ]
  },
  {
   "cell_type": "code",
   "execution_count": 10,
   "metadata": {},
   "outputs": [
    {
     "name": "stdout",
     "output_type": "stream",
     "text": [
      "size of test set: 246\n"
     ]
    }
   ],
   "source": [
    "print(\"size of test set: {}\".format(len(test_doc)))"
   ]
  },
  {
   "cell_type": "code",
   "execution_count": 11,
   "metadata": {
    "collapsed": true
   },
   "outputs": [],
   "source": [
    "# concatenate train and test sets\n",
    "def article(train_doc, test_doc):\n",
    "    return (train_doc + test_doc)"
   ]
  },
  {
   "cell_type": "code",
   "execution_count": 12,
   "metadata": {
    "collapsed": true
   },
   "outputs": [],
   "source": [
    "article = article(train_doc, test_doc)"
   ]
  },
  {
   "cell_type": "code",
   "execution_count": 13,
   "metadata": {},
   "outputs": [
    {
     "data": {
      "text/plain": [
       "['Test to predict breast cancer relapse is approved\\n',\n",
       " 'Two Hussein allies are hanged, Iraqi official says\\n',\n",
       " 'Sights and sounds from CES\\n',\n",
       " 'Schuey sees Ferrari unveil new car\\n',\n",
       " 'Closings and cancellations top advice on flu outbreak\\n']"
      ]
     },
     "execution_count": 13,
     "metadata": {},
     "output_type": "execute_result"
    }
   ],
   "source": [
    "article[:5]"
   ]
  },
  {
   "cell_type": "code",
   "execution_count": 14,
   "metadata": {},
   "outputs": [
    {
     "name": "stdout",
     "output_type": "stream",
     "text": [
      "size of article: 1246\n"
     ]
    }
   ],
   "source": [
    "print(\"size of article: {}\".format(len(article)))"
   ]
  },
  {
   "cell_type": "markdown",
   "metadata": {},
   "source": [
    "### Preprocessing Data for Training"
   ]
  },
  {
   "cell_type": "markdown",
   "metadata": {},
   "source": [
    "#### Data Cleaning"
   ]
  },
  {
   "cell_type": "code",
   "execution_count": 15,
   "metadata": {
    "collapsed": true
   },
   "outputs": [],
   "source": [
    "def removePunctuations(article):\n",
    "    no_punctuation = [re.sub('[,\\.!?]', '', text) \n",
    "                      for text in _to_lower_case(article)]\n",
    "    return no_punctuation\n",
    "\n",
    "# helper fuction to change texts to lower case\n",
    "def _to_lower_case(article):\n",
    "    lower_case = [text.lower() for text in article]\n",
    "    return lower_case"
   ]
  },
  {
   "cell_type": "code",
   "execution_count": 16,
   "metadata": {
    "collapsed": true
   },
   "outputs": [],
   "source": [
    "article = removePunctuations(article)"
   ]
  },
  {
   "cell_type": "markdown",
   "metadata": {},
   "source": [
    "#### Tokenizing and Lemmatizing Data"
   ]
  },
  {
   "cell_type": "code",
   "execution_count": 17,
   "metadata": {
    "collapsed": true
   },
   "outputs": [],
   "source": [
    "def toToken(article):\n",
    "    tokenizer = RegexpTokenizer(r'\\w+')\n",
    "    tokenize = [tokenizer.tokenize(line) for line in article]  \n",
    "    return tokenize"
   ]
  },
  {
   "cell_type": "code",
   "execution_count": 18,
   "metadata": {
    "collapsed": true
   },
   "outputs": [],
   "source": [
    "article = toToken(article)"
   ]
  },
  {
   "cell_type": "code",
   "execution_count": 19,
   "metadata": {
    "collapsed": true
   },
   "outputs": [],
   "source": [
    "def lemmatize(article):\n",
    "    article = _remove_numbers(article)\n",
    "    article = _remove_single_characters(article)\n",
    "    article = _remove_stopWords(article)\n",
    "    lemmatizer = WordNetLemmatizer()\n",
    "    lemmatize = [[lemmatizer.lemmatize(token) for token in line]\n",
    "                  for line in article]\n",
    "    return lemmatize\n",
    "\n",
    "# helper functions to clear numbers, sigle characters and stopwords\n",
    "def _remove_numbers(article):\n",
    "    no_numbers = [[token for token in line if not token.isnumeric()]\n",
    "                  for line in article]\n",
    "    return no_numbers\n",
    "\n",
    "def _remove_single_characters(article):\n",
    "    no_single_char = [[token for token in line if len(token) > 1]\n",
    "                      for line in article]\n",
    "    return no_single_char\n",
    "\n",
    "def _remove_stopWords(article):     \n",
    "    stop_words = stopwords.words('english')\n",
    "    no_stopwords = [[token for token in line if token not in\n",
    "                     stop_words] for line in article]\n",
    "    return no_stopwords"
   ]
  },
  {
   "cell_type": "code",
   "execution_count": 20,
   "metadata": {
    "collapsed": true
   },
   "outputs": [],
   "source": [
    "article = lemmatize(article)"
   ]
  },
  {
   "cell_type": "code",
   "execution_count": 21,
   "metadata": {},
   "outputs": [
    {
     "name": "stdout",
     "output_type": "stream",
     "text": [
      "tokenized and lemmatized texts: [['test', 'predict', 'breast', 'cancer', 'relapse', 'approved'], ['two', 'hussein', 'ally', 'hanged', 'iraqi', 'official', 'say'], ['sight', 'sound', 'ce'], ['schuey', 'see', 'ferrari', 'unveil', 'new', 'car'], ['closing', 'cancellation', 'top', 'advice', 'flu', 'outbreak']]\n"
     ]
    }
   ],
   "source": [
    "print(\"tokenized and lemmatized texts: {}\".format(article[:5]))"
   ]
  },
  {
   "cell_type": "markdown",
   "metadata": {},
   "source": [
    "#### Vectorizing Data"
   ]
  },
  {
   "cell_type": "code",
   "execution_count": 22,
   "metadata": {
    "collapsed": true
   },
   "outputs": [],
   "source": [
    "def dictionary(article):\n",
    "    # Create a dictionary representation of the acrticle\n",
    "    article = _format_for_vector(article)\n",
    "    dictionary = Dictionary(article)\n",
    "    return dictionary\n",
    "\n",
    "# helper function to prepare article for vectorizing\n",
    "def _format_for_vector(article):\n",
    "    formatted = [[token for line in article\n",
    "                  for token in line]]\n",
    "    return formatted"
   ]
  },
  {
   "cell_type": "code",
   "execution_count": 23,
   "metadata": {},
   "outputs": [
    {
     "name": "stderr",
     "output_type": "stream",
     "text": [
      "2020-05-13 00:30:17,993 : INFO : adding document #0 to Dictionary(0 unique tokens: [])\n",
      "2020-05-13 00:30:18,042 : INFO : built Dictionary(2900 unique tokens: ['150th', '165bn', '17th', '1970s', '20th']...) from 1 documents (total 6407 corpus positions)\n"
     ]
    }
   ],
   "source": [
    "dictionary = dictionary(article)"
   ]
  },
  {
   "cell_type": "code",
   "execution_count": 24,
   "metadata": {
    "collapsed": true
   },
   "outputs": [],
   "source": [
    "def wordToIndex(dictionary):\n",
    "    # maps from word to the index of that word\n",
    "    return dictionary.token2id\n",
    "    \n",
    "def indexToWord(dictionary):\n",
    "    # maps from index to the word \n",
    "    word_to_index = wordToIndex(dictionary)\n",
    "    if _is_empty(dictionary):\n",
    "        index_to_word = {}\n",
    "        for k in word_to_index:\n",
    "            val = word_to_index[k]\n",
    "            index_to_word[val] = k\n",
    "    else:\n",
    "        index_to_word = dictionary.id2token    \n",
    "    return index_to_word\n",
    "\n",
    "# helper funcion to check if dictionary is empty\n",
    "def _is_empty(dictionary):\n",
    "    return len(dictionary.id2token) == 0"
   ]
  },
  {
   "cell_type": "code",
   "execution_count": 25,
   "metadata": {
    "collapsed": true
   },
   "outputs": [],
   "source": [
    "index_to_word = indexToWord(dictionary)"
   ]
  },
  {
   "cell_type": "code",
   "execution_count": 26,
   "metadata": {
    "collapsed": true
   },
   "outputs": [],
   "source": [
    "def bagOfWords(article, dictionary):\n",
    "    # Bag-of-words representation of the documents.\n",
    "    article = _format_for_vector(article)\n",
    "    bag_of_words = [dictionary.doc2bow(line)\n",
    "              for line in article]\n",
    "    return bag_of_words"
   ]
  },
  {
   "cell_type": "code",
   "execution_count": 27,
   "metadata": {
    "collapsed": true
   },
   "outputs": [],
   "source": [
    "corpus = bagOfWords(article, dictionary)"
   ]
  },
  {
   "cell_type": "code",
   "execution_count": 28,
   "metadata": {},
   "outputs": [
    {
     "data": {
      "text/plain": [
       "[(0, 1), (1, 1), (2, 1), (3, 1), (4, 1)]"
      ]
     },
     "execution_count": 28,
     "metadata": {},
     "output_type": "execute_result"
    }
   ],
   "source": [
    "corpus[0][:5]"
   ]
  },
  {
   "cell_type": "code",
   "execution_count": 29,
   "metadata": {},
   "outputs": [
    {
     "name": "stdout",
     "output_type": "stream",
     "text": [
      "Number of unique tokens: 2900\n",
      "Number of documents: 1\n"
     ]
    }
   ],
   "source": [
    "print('Number of unique tokens: %d' % len(dictionary))\n",
    "print('Number of documents: %d' % len(corpus))"
   ]
  },
  {
   "cell_type": "markdown",
   "metadata": {},
   "source": [
    "### Model Training"
   ]
  },
  {
   "cell_type": "code",
   "execution_count": 30,
   "metadata": {
    "collapsed": true
   },
   "outputs": [],
   "source": [
    "# set training parameters.\n",
    "num_topics = 10\n",
    "passes = 20\n",
    "iterations = 400"
   ]
  },
  {
   "cell_type": "code",
   "execution_count": 31,
   "metadata": {},
   "outputs": [
    {
     "name": "stderr",
     "output_type": "stream",
     "text": [
      "2020-05-13 00:30:33,715 : INFO : using symmetric alpha at 0.1\n",
      "2020-05-13 00:30:33,725 : INFO : using symmetric eta at 0.1\n",
      "2020-05-13 00:30:33,738 : INFO : using serial LDA version on this node\n",
      "2020-05-13 00:30:34,075 : INFO : running online (multi-pass) LDA training, 10 topics, 20 passes over the supplied corpus of 1 documents, updating model once every 1 documents, evaluating perplexity every 1 documents, iterating 400x with a convergence threshold of 0.001000\n",
      "2020-05-13 00:30:34,747 : INFO : -13.547 per-word bound, 11967.4 perplexity estimate based on a held-out corpus of 1 documents with 6407 words\n",
      "2020-05-13 00:30:34,747 : INFO : PROGRESS: pass 0, at document #1/1\n",
      "2020-05-13 00:30:35,189 : INFO : topic #0 (0.100): 0.003*\"u\" + 0.003*\"say\" + 0.003*\"iraq\" + 0.002*\"new\" + 0.002*\"may\" + 0.002*\"iraqi\" + 0.002*\"iran\" + 0.002*\"woman\" + 0.002*\"attack\" + 0.001*\"hit\"\n",
      "2020-05-13 00:30:35,205 : INFO : topic #1 (0.100): 0.009*\"u\" + 0.006*\"iraq\" + 0.006*\"new\" + 0.005*\"say\" + 0.004*\"may\" + 0.004*\"study\" + 0.003*\"north\" + 0.003*\"iraqi\" + 0.003*\"korea\" + 0.003*\"iran\"\n",
      "2020-05-13 00:30:35,205 : INFO : topic #5 (0.100): 0.004*\"u\" + 0.002*\"new\" + 0.002*\"iraq\" + 0.002*\"say\" + 0.002*\"study\" + 0.002*\"iran\" + 0.001*\"terror\" + 0.001*\"may\" + 0.001*\"korea\" + 0.001*\"plan\"\n",
      "2020-05-13 00:30:35,220 : INFO : topic #2 (0.100): 0.008*\"u\" + 0.005*\"iraq\" + 0.004*\"say\" + 0.004*\"may\" + 0.004*\"iran\" + 0.004*\"new\" + 0.003*\"study\" + 0.003*\"attack\" + 0.003*\"woman\" + 0.003*\"korea\"\n",
      "2020-05-13 00:30:35,251 : INFO : topic #3 (0.100): 0.003*\"iraq\" + 0.003*\"u\" + 0.002*\"say\" + 0.002*\"iran\" + 0.002*\"study\" + 0.002*\"new\" + 0.002*\"may\" + 0.001*\"plan\" + 0.001*\"woman\" + 0.001*\"north\"\n",
      "2020-05-13 00:30:35,270 : INFO : topic diff=3.557620, rho=1.000000\n",
      "2020-05-13 00:30:35,587 : INFO : -9.701 per-word bound, 832.1 perplexity estimate based on a held-out corpus of 1 documents with 6407 words\n",
      "2020-05-13 00:30:35,603 : INFO : PROGRESS: pass 1, at document #1/1\n",
      "2020-05-13 00:30:35,702 : INFO : topic #5 (0.100): 0.002*\"u\" + 0.001*\"new\" + 0.001*\"iraq\" + 0.001*\"say\" + 0.001*\"study\" + 0.001*\"iran\" + 0.001*\"terror\" + 0.001*\"may\" + 0.001*\"korea\" + 0.001*\"plan\"\n",
      "2020-05-13 00:30:35,719 : INFO : topic #0 (0.100): 0.002*\"u\" + 0.002*\"say\" + 0.002*\"iraq\" + 0.001*\"new\" + 0.001*\"may\" + 0.001*\"iraqi\" + 0.001*\"iran\" + 0.001*\"woman\" + 0.001*\"attack\" + 0.001*\"hit\"\n",
      "2020-05-13 00:30:35,740 : INFO : topic #4 (0.100): 0.004*\"u\" + 0.003*\"new\" + 0.003*\"say\" + 0.003*\"iraq\" + 0.003*\"iran\" + 0.003*\"may\" + 0.002*\"north\" + 0.002*\"korea\" + 0.002*\"heart\" + 0.002*\"iraqi\"\n",
      "2020-05-13 00:30:35,764 : INFO : topic #1 (0.100): 0.010*\"u\" + 0.006*\"iraq\" + 0.006*\"new\" + 0.005*\"say\" + 0.005*\"may\" + 0.004*\"iran\" + 0.004*\"study\" + 0.003*\"korea\" + 0.003*\"north\" + 0.003*\"iraqi\"\n",
      "2020-05-13 00:30:35,776 : INFO : topic #3 (0.100): 0.002*\"iraq\" + 0.002*\"u\" + 0.001*\"say\" + 0.001*\"iran\" + 0.001*\"study\" + 0.001*\"new\" + 0.001*\"may\" + 0.001*\"plan\" + 0.001*\"woman\" + 0.001*\"north\"\n",
      "2020-05-13 00:30:35,787 : INFO : topic diff=1.217872, rho=0.577350\n",
      "2020-05-13 00:30:36,265 : INFO : -8.866 per-word bound, 466.6 perplexity estimate based on a held-out corpus of 1 documents with 6407 words\n",
      "2020-05-13 00:30:36,280 : INFO : PROGRESS: pass 2, at document #1/1\n",
      "2020-05-13 00:30:36,347 : INFO : topic #1 (0.100): 0.010*\"u\" + 0.006*\"iraq\" + 0.006*\"new\" + 0.005*\"say\" + 0.005*\"may\" + 0.004*\"iran\" + 0.004*\"study\" + 0.003*\"korea\" + 0.003*\"north\" + 0.003*\"iraqi\"\n",
      "2020-05-13 00:30:36,364 : INFO : topic #6 (0.100): 0.001*\"u\" + 0.001*\"iraq\" + 0.001*\"say\" + 0.001*\"new\" + 0.001*\"may\" + 0.001*\"iran\" + 0.001*\"iraqi\" + 0.001*\"study\" + 0.000*\"korea\" + 0.000*\"woman\"\n",
      "2020-05-13 00:30:36,386 : INFO : topic #2 (0.100): 0.005*\"u\" + 0.003*\"iraq\" + 0.002*\"say\" + 0.002*\"may\" + 0.002*\"iran\" + 0.002*\"new\" + 0.002*\"study\" + 0.002*\"attack\" + 0.002*\"woman\" + 0.002*\"korea\"\n",
      "2020-05-13 00:30:36,399 : INFO : topic #9 (0.100): 0.005*\"u\" + 0.003*\"new\" + 0.003*\"iraq\" + 0.003*\"say\" + 0.003*\"may\" + 0.002*\"study\" + 0.002*\"iran\" + 0.002*\"korea\" + 0.002*\"north\" + 0.002*\"terror\"\n",
      "2020-05-13 00:30:36,408 : INFO : topic #3 (0.100): 0.001*\"iraq\" + 0.001*\"u\" + 0.001*\"say\" + 0.001*\"iran\" + 0.001*\"study\" + 0.001*\"new\" + 0.001*\"may\" + 0.001*\"plan\" + 0.001*\"woman\" + 0.001*\"north\"\n",
      "2020-05-13 00:30:36,412 : INFO : topic diff=0.793548, rho=0.500000\n",
      "2020-05-13 00:30:36,723 : INFO : -8.606 per-word bound, 389.6 perplexity estimate based on a held-out corpus of 1 documents with 6407 words\n",
      "2020-05-13 00:30:36,739 : INFO : PROGRESS: pass 3, at document #1/1\n",
      "2020-05-13 00:30:36,790 : INFO : topic #7 (0.100): 0.001*\"iraq\" + 0.001*\"u\" + 0.001*\"new\" + 0.001*\"say\" + 0.001*\"iran\" + 0.001*\"may\" + 0.001*\"woman\" + 0.001*\"study\" + 0.001*\"terror\" + 0.001*\"korea\"\n",
      "2020-05-13 00:30:36,802 : INFO : topic #4 (0.100): 0.002*\"u\" + 0.002*\"new\" + 0.002*\"say\" + 0.002*\"iraq\" + 0.001*\"iran\" + 0.001*\"may\" + 0.001*\"north\" + 0.001*\"korea\" + 0.001*\"heart\" + 0.001*\"iraqi\"\n",
      "2020-05-13 00:30:36,814 : INFO : topic #8 (0.100): 0.003*\"u\" + 0.002*\"iraq\" + 0.002*\"iran\" + 0.002*\"say\" + 0.002*\"may\" + 0.002*\"new\" + 0.001*\"korea\" + 0.001*\"study\" + 0.001*\"china\" + 0.001*\"terror\"\n",
      "2020-05-13 00:30:36,824 : INFO : topic #5 (0.100): 0.001*\"u\" + 0.001*\"new\" + 0.001*\"iraq\" + 0.001*\"say\" + 0.001*\"study\" + 0.001*\"iran\" + 0.001*\"terror\" + 0.001*\"may\" + 0.001*\"korea\" + 0.001*\"plan\"\n",
      "2020-05-13 00:30:36,835 : INFO : topic #0 (0.100): 0.001*\"u\" + 0.001*\"say\" + 0.001*\"iraq\" + 0.001*\"new\" + 0.001*\"may\" + 0.001*\"iraqi\" + 0.001*\"iran\" + 0.001*\"woman\" + 0.001*\"attack\" + 0.001*\"hit\"\n",
      "2020-05-13 00:30:36,845 : INFO : topic diff=0.524181, rho=0.447214\n",
      "2020-05-13 00:30:37,261 : INFO : -8.493 per-word bound, 360.2 perplexity estimate based on a held-out corpus of 1 documents with 6407 words\n",
      "2020-05-13 00:30:37,277 : INFO : PROGRESS: pass 4, at document #1/1\n",
      "2020-05-13 00:30:37,326 : INFO : topic #0 (0.100): 0.001*\"u\" + 0.001*\"say\" + 0.001*\"iraq\" + 0.001*\"new\" + 0.001*\"may\" + 0.001*\"iraqi\" + 0.001*\"iran\" + 0.000*\"woman\" + 0.000*\"attack\" + 0.000*\"hit\"\n",
      "2020-05-13 00:30:37,337 : INFO : topic #3 (0.100): 0.001*\"iraq\" + 0.001*\"u\" + 0.001*\"say\" + 0.000*\"iran\" + 0.000*\"study\" + 0.000*\"new\" + 0.000*\"may\" + 0.000*\"plan\" + 0.000*\"woman\" + 0.000*\"north\"\n",
      "2020-05-13 00:30:37,351 : INFO : topic #4 (0.100): 0.001*\"u\" + 0.001*\"new\" + 0.001*\"say\" + 0.001*\"iraq\" + 0.001*\"iran\" + 0.001*\"may\" + 0.001*\"north\" + 0.001*\"korea\" + 0.001*\"heart\" + 0.001*\"iraqi\"\n",
      "2020-05-13 00:30:37,362 : INFO : topic #6 (0.100): 0.000*\"u\" + 0.000*\"iraq\" + 0.000*\"say\" + 0.000*\"new\" + 0.000*\"may\" + 0.000*\"iran\" + 0.000*\"iraqi\" + 0.000*\"study\" + 0.000*\"korea\" + 0.000*\"woman\"\n",
      "2020-05-13 00:30:37,371 : INFO : topic #9 (0.100): 0.002*\"u\" + 0.002*\"new\" + 0.002*\"iraq\" + 0.002*\"say\" + 0.001*\"may\" + 0.001*\"study\" + 0.001*\"iran\" + 0.001*\"korea\" + 0.001*\"north\" + 0.001*\"terror\"\n",
      "2020-05-13 00:30:37,382 : INFO : topic diff=0.344704, rho=0.408248\n",
      "2020-05-13 00:30:37,691 : INFO : -8.441 per-word bound, 347.5 perplexity estimate based on a held-out corpus of 1 documents with 6407 words\n",
      "2020-05-13 00:30:37,691 : INFO : PROGRESS: pass 5, at document #1/1\n",
      "2020-05-13 00:30:37,753 : INFO : topic #3 (0.100): 0.000*\"iraq\" + 0.000*\"u\" + 0.000*\"say\" + 0.000*\"iran\" + 0.000*\"study\" + 0.000*\"new\" + 0.000*\"may\" + 0.000*\"plan\" + 0.000*\"woman\" + 0.000*\"north\"\n",
      "2020-05-13 00:30:37,771 : INFO : topic #6 (0.100): 0.000*\"u\" + 0.000*\"iraq\" + 0.000*\"say\" + 0.000*\"new\" + 0.000*\"may\" + 0.000*\"iran\" + 0.000*\"iraqi\" + 0.000*\"study\" + 0.000*\"korea\" + 0.000*\"woman\"\n",
      "2020-05-13 00:30:37,782 : INFO : topic #7 (0.100): 0.001*\"iraq\" + 0.001*\"u\" + 0.001*\"new\" + 0.001*\"say\" + 0.001*\"iran\" + 0.001*\"may\" + 0.001*\"woman\" + 0.000*\"study\" + 0.000*\"terror\" + 0.000*\"korea\"\n",
      "2020-05-13 00:30:37,793 : INFO : topic #2 (0.100): 0.002*\"u\" + 0.001*\"iraq\" + 0.001*\"say\" + 0.001*\"may\" + 0.001*\"iran\" + 0.001*\"new\" + 0.001*\"study\" + 0.001*\"attack\" + 0.001*\"woman\" + 0.001*\"korea\"\n",
      "2020-05-13 00:30:37,803 : INFO : topic #8 (0.100): 0.002*\"u\" + 0.001*\"iraq\" + 0.001*\"iran\" + 0.001*\"say\" + 0.001*\"may\" + 0.001*\"new\" + 0.001*\"korea\" + 0.001*\"study\" + 0.001*\"china\" + 0.001*\"terror\"\n",
      "2020-05-13 00:30:37,812 : INFO : topic diff=0.227309, rho=0.377964\n",
      "2020-05-13 00:30:38,177 : INFO : -8.416 per-word bound, 341.7 perplexity estimate based on a held-out corpus of 1 documents with 6407 words\n",
      "2020-05-13 00:30:38,177 : INFO : PROGRESS: pass 6, at document #1/1\n"
     ]
    },
    {
     "name": "stderr",
     "output_type": "stream",
     "text": [
      "2020-05-13 00:30:38,229 : INFO : topic #8 (0.100): 0.001*\"u\" + 0.001*\"iraq\" + 0.001*\"iran\" + 0.001*\"say\" + 0.001*\"may\" + 0.001*\"new\" + 0.001*\"korea\" + 0.001*\"study\" + 0.001*\"china\" + 0.001*\"terror\"\n",
      "2020-05-13 00:30:38,241 : INFO : topic #0 (0.100): 0.000*\"u\" + 0.000*\"say\" + 0.000*\"iraq\" + 0.000*\"new\" + 0.000*\"may\" + 0.000*\"iraqi\" + 0.000*\"iran\" + 0.000*\"woman\" + 0.000*\"attack\" + 0.000*\"hit\"\n",
      "2020-05-13 00:30:38,261 : INFO : topic #2 (0.100): 0.001*\"u\" + 0.001*\"iraq\" + 0.001*\"say\" + 0.001*\"may\" + 0.001*\"iran\" + 0.001*\"new\" + 0.001*\"study\" + 0.001*\"attack\" + 0.001*\"woman\" + 0.001*\"korea\"\n",
      "2020-05-13 00:30:38,269 : INFO : topic #6 (0.100): 0.000*\"u\" + 0.000*\"iraq\" + 0.000*\"say\" + 0.000*\"new\" + 0.000*\"may\" + 0.000*\"iran\" + 0.000*\"iraqi\" + 0.000*\"study\" + 0.000*\"korea\" + 0.000*\"woman\"\n",
      "2020-05-13 00:30:38,282 : INFO : topic #5 (0.100): 0.000*\"u\" + 0.000*\"new\" + 0.000*\"iraq\" + 0.000*\"say\" + 0.000*\"study\" + 0.000*\"iran\" + 0.000*\"terror\" + 0.000*\"may\" + 0.000*\"korea\" + 0.000*\"plan\"\n",
      "2020-05-13 00:30:38,290 : INFO : topic diff=0.150963, rho=0.353553\n",
      "2020-05-13 00:30:38,772 : INFO : -8.405 per-word bound, 338.9 perplexity estimate based on a held-out corpus of 1 documents with 6407 words\n",
      "2020-05-13 00:30:38,772 : INFO : PROGRESS: pass 7, at document #1/1\n",
      "2020-05-13 00:30:38,831 : INFO : topic #2 (0.100): 0.001*\"u\" + 0.001*\"iraq\" + 0.001*\"say\" + 0.001*\"may\" + 0.001*\"iran\" + 0.001*\"new\" + 0.001*\"study\" + 0.001*\"attack\" + 0.001*\"woman\" + 0.001*\"korea\"\n",
      "2020-05-13 00:30:38,840 : INFO : topic #5 (0.100): 0.000*\"u\" + 0.000*\"new\" + 0.000*\"iraq\" + 0.000*\"say\" + 0.000*\"study\" + 0.000*\"iran\" + 0.000*\"terror\" + 0.000*\"may\" + 0.000*\"korea\" + 0.000*\"plan\"\n",
      "2020-05-13 00:30:38,852 : INFO : topic #9 (0.100): 0.001*\"u\" + 0.001*\"new\" + 0.001*\"iraq\" + 0.001*\"say\" + 0.001*\"may\" + 0.001*\"study\" + 0.001*\"iran\" + 0.001*\"korea\" + 0.001*\"north\" + 0.001*\"terror\"\n",
      "2020-05-13 00:30:38,864 : INFO : topic #7 (0.100): 0.000*\"iraq\" + 0.000*\"u\" + 0.000*\"new\" + 0.000*\"say\" + 0.000*\"iran\" + 0.000*\"may\" + 0.000*\"woman\" + 0.000*\"study\" + 0.000*\"terror\" + 0.000*\"korea\"\n",
      "2020-05-13 00:30:38,872 : INFO : topic #4 (0.100): 0.001*\"u\" + 0.001*\"new\" + 0.001*\"say\" + 0.001*\"iraq\" + 0.001*\"iran\" + 0.001*\"may\" + 0.001*\"north\" + 0.000*\"korea\" + 0.000*\"heart\" + 0.000*\"iraqi\"\n",
      "2020-05-13 00:30:38,885 : INFO : topic diff=0.101216, rho=0.333333\n",
      "2020-05-13 00:30:39,205 : INFO : -8.399 per-word bound, 337.5 perplexity estimate based on a held-out corpus of 1 documents with 6407 words\n",
      "2020-05-13 00:30:39,205 : INFO : PROGRESS: pass 8, at document #1/1\n",
      "2020-05-13 00:30:39,253 : INFO : topic #9 (0.100): 0.001*\"u\" + 0.001*\"new\" + 0.001*\"iraq\" + 0.001*\"say\" + 0.001*\"may\" + 0.001*\"study\" + 0.000*\"iran\" + 0.000*\"korea\" + 0.000*\"north\" + 0.000*\"terror\"\n",
      "2020-05-13 00:30:39,274 : INFO : topic #6 (0.100): 0.000*\"u\" + 0.000*\"iraq\" + 0.000*\"say\" + 0.000*\"new\" + 0.000*\"may\" + 0.000*\"iran\" + 0.000*\"iraqi\" + 0.000*\"study\" + 0.000*\"korea\" + 0.000*\"woman\"\n",
      "2020-05-13 00:30:39,293 : INFO : topic #2 (0.100): 0.001*\"u\" + 0.001*\"iraq\" + 0.001*\"say\" + 0.001*\"may\" + 0.001*\"iran\" + 0.001*\"new\" + 0.000*\"study\" + 0.000*\"attack\" + 0.000*\"woman\" + 0.000*\"korea\"\n",
      "2020-05-13 00:30:39,308 : INFO : topic #4 (0.100): 0.001*\"u\" + 0.001*\"new\" + 0.001*\"say\" + 0.000*\"iraq\" + 0.000*\"iran\" + 0.000*\"may\" + 0.000*\"north\" + 0.000*\"korea\" + 0.000*\"heart\" + 0.000*\"iraqi\"\n",
      "2020-05-13 00:30:39,319 : INFO : topic #0 (0.100): 0.000*\"u\" + 0.000*\"say\" + 0.000*\"iraq\" + 0.000*\"new\" + 0.000*\"may\" + 0.000*\"iraqi\" + 0.000*\"iran\" + 0.000*\"woman\" + 0.000*\"attack\" + 0.000*\"hit\"\n",
      "2020-05-13 00:30:39,328 : INFO : topic diff=0.068605, rho=0.316228\n",
      "2020-05-13 00:30:39,668 : INFO : -8.396 per-word bound, 336.8 perplexity estimate based on a held-out corpus of 1 documents with 6407 words\n",
      "2020-05-13 00:30:39,683 : INFO : PROGRESS: pass 9, at document #1/1\n",
      "2020-05-13 00:30:39,732 : INFO : topic #1 (0.100): 0.010*\"u\" + 0.006*\"iraq\" + 0.006*\"new\" + 0.006*\"say\" + 0.005*\"may\" + 0.004*\"iran\" + 0.004*\"study\" + 0.003*\"korea\" + 0.003*\"north\" + 0.003*\"iraqi\"\n",
      "2020-05-13 00:30:39,755 : INFO : topic #4 (0.100): 0.000*\"u\" + 0.000*\"new\" + 0.000*\"say\" + 0.000*\"iraq\" + 0.000*\"iran\" + 0.000*\"may\" + 0.000*\"north\" + 0.000*\"korea\" + 0.000*\"heart\" + 0.000*\"iraqi\"\n",
      "2020-05-13 00:30:39,776 : INFO : topic #0 (0.100): 0.000*\"u\" + 0.000*\"say\" + 0.000*\"iraq\" + 0.000*\"new\" + 0.000*\"may\" + 0.000*\"iraqi\" + 0.000*\"iran\" + 0.000*\"woman\" + 0.000*\"attack\" + 0.000*\"hit\"\n",
      "2020-05-13 00:30:39,784 : INFO : topic #9 (0.100): 0.001*\"u\" + 0.001*\"new\" + 0.001*\"iraq\" + 0.001*\"say\" + 0.001*\"may\" + 0.000*\"study\" + 0.000*\"iran\" + 0.000*\"korea\" + 0.000*\"north\" + 0.000*\"terror\"\n",
      "2020-05-13 00:30:39,796 : INFO : topic #8 (0.100): 0.001*\"u\" + 0.001*\"iraq\" + 0.000*\"iran\" + 0.000*\"say\" + 0.000*\"may\" + 0.000*\"new\" + 0.000*\"korea\" + 0.000*\"study\" + 0.000*\"china\" + 0.000*\"terror\"\n",
      "2020-05-13 00:30:39,803 : INFO : topic diff=0.047043, rho=0.301511\n",
      "2020-05-13 00:30:40,104 : INFO : -8.394 per-word bound, 336.5 perplexity estimate based on a held-out corpus of 1 documents with 6407 words\n",
      "2020-05-13 00:30:40,104 : INFO : PROGRESS: pass 10, at document #1/1\n",
      "2020-05-13 00:30:40,158 : INFO : topic #4 (0.100): 0.000*\"u\" + 0.000*\"new\" + 0.000*\"say\" + 0.000*\"iraq\" + 0.000*\"iran\" + 0.000*\"may\" + 0.000*\"north\" + 0.000*\"korea\" + 0.000*\"heart\" + 0.000*\"iraqi\"\n",
      "2020-05-13 00:30:40,170 : INFO : topic #9 (0.100): 0.001*\"u\" + 0.000*\"new\" + 0.000*\"iraq\" + 0.000*\"say\" + 0.000*\"may\" + 0.000*\"study\" + 0.000*\"iran\" + 0.000*\"korea\" + 0.000*\"north\" + 0.000*\"terror\"\n",
      "2020-05-13 00:30:40,182 : INFO : topic #3 (0.100): 0.000*\"iraq\" + 0.000*\"u\" + 0.000*\"say\" + 0.000*\"iran\" + 0.000*\"study\" + 0.000*\"new\" + 0.000*\"may\" + 0.000*\"plan\" + 0.000*\"woman\" + 0.000*\"north\"\n",
      "2020-05-13 00:30:40,193 : INFO : topic #0 (0.100): 0.000*\"u\" + 0.000*\"say\" + 0.000*\"iraq\" + 0.000*\"new\" + 0.000*\"may\" + 0.000*\"iraqi\" + 0.000*\"iran\" + 0.000*\"woman\" + 0.000*\"attack\" + 0.000*\"hit\"\n",
      "2020-05-13 00:30:40,219 : INFO : topic #7 (0.100): 0.000*\"iraq\" + 0.000*\"u\" + 0.000*\"new\" + 0.000*\"say\" + 0.000*\"iran\" + 0.000*\"may\" + 0.000*\"woman\" + 0.000*\"study\" + 0.000*\"terror\" + 0.000*\"korea\"\n",
      "2020-05-13 00:30:40,225 : INFO : topic diff=0.032645, rho=0.288675\n",
      "2020-05-13 00:30:40,520 : INFO : -8.394 per-word bound, 336.3 perplexity estimate based on a held-out corpus of 1 documents with 6407 words\n",
      "2020-05-13 00:30:40,520 : INFO : PROGRESS: pass 11, at document #1/1\n",
      "2020-05-13 00:30:40,614 : INFO : topic #1 (0.100): 0.010*\"u\" + 0.006*\"iraq\" + 0.006*\"new\" + 0.006*\"say\" + 0.005*\"may\" + 0.004*\"iran\" + 0.004*\"study\" + 0.003*\"korea\" + 0.003*\"north\" + 0.003*\"iraqi\"\n",
      "2020-05-13 00:30:40,625 : INFO : topic #6 (0.100): 0.000*\"u\" + 0.000*\"iraq\" + 0.000*\"say\" + 0.000*\"new\" + 0.000*\"may\" + 0.000*\"iran\" + 0.000*\"iraqi\" + 0.000*\"study\" + 0.000*\"korea\" + 0.000*\"woman\"\n",
      "2020-05-13 00:30:40,637 : INFO : topic #9 (0.100): 0.001*\"u\" + 0.000*\"new\" + 0.000*\"iraq\" + 0.000*\"say\" + 0.000*\"may\" + 0.000*\"study\" + 0.000*\"iran\" + 0.000*\"korea\" + 0.000*\"north\" + 0.000*\"terror\"\n",
      "2020-05-13 00:30:40,650 : INFO : topic #4 (0.100): 0.000*\"u\" + 0.000*\"new\" + 0.000*\"say\" + 0.000*\"iraq\" + 0.000*\"iran\" + 0.000*\"may\" + 0.000*\"north\" + 0.000*\"korea\" + 0.000*\"heart\" + 0.000*\"iraqi\"\n",
      "2020-05-13 00:30:40,659 : INFO : topic #8 (0.100): 0.001*\"u\" + 0.000*\"iraq\" + 0.000*\"iran\" + 0.000*\"say\" + 0.000*\"may\" + 0.000*\"new\" + 0.000*\"korea\" + 0.000*\"study\" + 0.000*\"china\" + 0.000*\"terror\"\n",
      "2020-05-13 00:30:40,670 : INFO : topic diff=0.022924, rho=0.277350\n",
      "2020-05-13 00:30:41,102 : INFO : -8.393 per-word bound, 336.2 perplexity estimate based on a held-out corpus of 1 documents with 6407 words\n",
      "2020-05-13 00:30:41,102 : INFO : PROGRESS: pass 12, at document #1/1\n",
      "2020-05-13 00:30:41,162 : INFO : topic #9 (0.100): 0.000*\"u\" + 0.000*\"new\" + 0.000*\"iraq\" + 0.000*\"say\" + 0.000*\"may\" + 0.000*\"study\" + 0.000*\"iran\" + 0.000*\"korea\" + 0.000*\"north\" + 0.000*\"terror\"\n",
      "2020-05-13 00:30:41,172 : INFO : topic #0 (0.100): 0.000*\"u\" + 0.000*\"say\" + 0.000*\"iraq\" + 0.000*\"new\" + 0.000*\"may\" + 0.000*\"iraqi\" + 0.000*\"iran\" + 0.000*\"woman\" + 0.000*\"attack\" + 0.000*\"hit\"\n",
      "2020-05-13 00:30:41,186 : INFO : topic #1 (0.100): 0.010*\"u\" + 0.006*\"iraq\" + 0.006*\"new\" + 0.006*\"say\" + 0.005*\"may\" + 0.004*\"iran\" + 0.004*\"study\" + 0.003*\"korea\" + 0.003*\"north\" + 0.003*\"iraqi\"\n",
      "2020-05-13 00:30:41,197 : INFO : topic #6 (0.100): 0.000*\"u\" + 0.000*\"iraq\" + 0.000*\"say\" + 0.000*\"new\" + 0.000*\"may\" + 0.000*\"iran\" + 0.000*\"iraqi\" + 0.000*\"study\" + 0.000*\"korea\" + 0.000*\"woman\"\n"
     ]
    },
    {
     "name": "stderr",
     "output_type": "stream",
     "text": [
      "2020-05-13 00:30:41,209 : INFO : topic #2 (0.100): 0.000*\"u\" + 0.000*\"iraq\" + 0.000*\"say\" + 0.000*\"may\" + 0.000*\"iran\" + 0.000*\"new\" + 0.000*\"study\" + 0.000*\"attack\" + 0.000*\"woman\" + 0.000*\"korea\"\n",
      "2020-05-13 00:30:41,217 : INFO : topic diff=0.016287, rho=0.267261\n",
      "2020-05-13 00:30:41,545 : INFO : -8.393 per-word bound, 336.1 perplexity estimate based on a held-out corpus of 1 documents with 6407 words\n",
      "2020-05-13 00:30:41,545 : INFO : PROGRESS: pass 13, at document #1/1\n",
      "2020-05-13 00:30:41,616 : INFO : topic #7 (0.100): 0.000*\"iraq\" + 0.000*\"u\" + 0.000*\"new\" + 0.000*\"say\" + 0.000*\"iran\" + 0.000*\"may\" + 0.000*\"woman\" + 0.000*\"study\" + 0.000*\"terror\" + 0.000*\"korea\"\n",
      "2020-05-13 00:30:41,625 : INFO : topic #0 (0.100): 0.000*\"u\" + 0.000*\"say\" + 0.000*\"iraq\" + 0.000*\"new\" + 0.000*\"may\" + 0.000*\"iraqi\" + 0.000*\"iran\" + 0.000*\"woman\" + 0.000*\"attack\" + 0.000*\"hit\"\n",
      "2020-05-13 00:30:41,639 : INFO : topic #2 (0.100): 0.000*\"u\" + 0.000*\"iraq\" + 0.000*\"say\" + 0.000*\"may\" + 0.000*\"iran\" + 0.000*\"new\" + 0.000*\"study\" + 0.000*\"attack\" + 0.000*\"woman\" + 0.000*\"korea\"\n",
      "2020-05-13 00:30:41,651 : INFO : topic #3 (0.100): 0.000*\"iraq\" + 0.000*\"u\" + 0.000*\"say\" + 0.000*\"iran\" + 0.000*\"study\" + 0.000*\"new\" + 0.000*\"may\" + 0.000*\"plan\" + 0.000*\"woman\" + 0.000*\"north\"\n",
      "2020-05-13 00:30:41,663 : INFO : topic #9 (0.100): 0.000*\"u\" + 0.000*\"new\" + 0.000*\"iraq\" + 0.000*\"say\" + 0.000*\"may\" + 0.000*\"study\" + 0.000*\"iran\" + 0.000*\"korea\" + 0.000*\"north\" + 0.000*\"terror\"\n",
      "2020-05-13 00:30:41,669 : INFO : topic diff=0.011700, rho=0.258199\n",
      "2020-05-13 00:30:42,243 : INFO : -8.393 per-word bound, 336.1 perplexity estimate based on a held-out corpus of 1 documents with 6407 words\n",
      "2020-05-13 00:30:42,258 : INFO : PROGRESS: pass 14, at document #1/1\n",
      "2020-05-13 00:30:42,321 : INFO : topic #1 (0.100): 0.010*\"u\" + 0.006*\"iraq\" + 0.006*\"new\" + 0.006*\"say\" + 0.005*\"may\" + 0.004*\"iran\" + 0.004*\"study\" + 0.003*\"korea\" + 0.003*\"north\" + 0.003*\"iraqi\"\n",
      "2020-05-13 00:30:42,346 : INFO : topic #9 (0.100): 0.000*\"u\" + 0.000*\"new\" + 0.000*\"iraq\" + 0.000*\"say\" + 0.000*\"may\" + 0.000*\"study\" + 0.000*\"iran\" + 0.000*\"korea\" + 0.000*\"north\" + 0.000*\"terror\"\n",
      "2020-05-13 00:30:42,356 : INFO : topic #8 (0.100): 0.000*\"u\" + 0.000*\"iraq\" + 0.000*\"iran\" + 0.000*\"say\" + 0.000*\"may\" + 0.000*\"new\" + 0.000*\"korea\" + 0.000*\"study\" + 0.000*\"china\" + 0.000*\"terror\"\n",
      "2020-05-13 00:30:42,370 : INFO : topic #7 (0.100): 0.000*\"iraq\" + 0.000*\"u\" + 0.000*\"new\" + 0.000*\"say\" + 0.000*\"iran\" + 0.000*\"may\" + 0.000*\"woman\" + 0.000*\"study\" + 0.000*\"terror\" + 0.000*\"korea\"\n",
      "2020-05-13 00:30:42,380 : INFO : topic #4 (0.100): 0.000*\"u\" + 0.000*\"new\" + 0.000*\"say\" + 0.000*\"iraq\" + 0.000*\"iran\" + 0.000*\"may\" + 0.000*\"north\" + 0.000*\"korea\" + 0.000*\"heart\" + 0.000*\"iraqi\"\n",
      "2020-05-13 00:30:42,391 : INFO : topic diff=0.008497, rho=0.250000\n",
      "2020-05-13 00:30:42,840 : INFO : -8.393 per-word bound, 336.1 perplexity estimate based on a held-out corpus of 1 documents with 6407 words\n",
      "2020-05-13 00:30:42,863 : INFO : PROGRESS: pass 15, at document #1/1\n",
      "2020-05-13 00:30:43,008 : INFO : topic #6 (0.100): 0.000*\"u\" + 0.000*\"iraq\" + 0.000*\"say\" + 0.000*\"new\" + 0.000*\"may\" + 0.000*\"iran\" + 0.000*\"iraqi\" + 0.000*\"study\" + 0.000*\"korea\" + 0.000*\"woman\"\n",
      "2020-05-13 00:30:43,031 : INFO : topic #4 (0.100): 0.000*\"u\" + 0.000*\"new\" + 0.000*\"say\" + 0.000*\"iraq\" + 0.000*\"iran\" + 0.000*\"may\" + 0.000*\"north\" + 0.000*\"korea\" + 0.000*\"heart\" + 0.000*\"iraqi\"\n",
      "2020-05-13 00:30:43,063 : INFO : topic #8 (0.100): 0.000*\"u\" + 0.000*\"iraq\" + 0.000*\"iran\" + 0.000*\"say\" + 0.000*\"may\" + 0.000*\"new\" + 0.000*\"korea\" + 0.000*\"study\" + 0.000*\"china\" + 0.000*\"terror\"\n",
      "2020-05-13 00:30:43,071 : INFO : topic #9 (0.100): 0.000*\"u\" + 0.000*\"new\" + 0.000*\"iraq\" + 0.000*\"say\" + 0.000*\"may\" + 0.000*\"study\" + 0.000*\"iran\" + 0.000*\"korea\" + 0.000*\"north\" + 0.000*\"terror\"\n",
      "2020-05-13 00:30:43,083 : INFO : topic #0 (0.100): 0.000*\"u\" + 0.000*\"say\" + 0.000*\"iraq\" + 0.000*\"new\" + 0.000*\"may\" + 0.000*\"iraqi\" + 0.000*\"iran\" + 0.000*\"woman\" + 0.000*\"attack\" + 0.000*\"hit\"\n",
      "2020-05-13 00:30:43,098 : INFO : topic diff=0.006236, rho=0.242536\n",
      "2020-05-13 00:30:43,745 : INFO : -8.393 per-word bound, 336.1 perplexity estimate based on a held-out corpus of 1 documents with 6407 words\n",
      "2020-05-13 00:30:43,754 : INFO : PROGRESS: pass 16, at document #1/1\n",
      "2020-05-13 00:30:43,805 : INFO : topic #3 (0.100): 0.000*\"iraq\" + 0.000*\"u\" + 0.000*\"say\" + 0.000*\"iran\" + 0.000*\"study\" + 0.000*\"new\" + 0.000*\"may\" + 0.000*\"plan\" + 0.000*\"woman\" + 0.000*\"north\"\n",
      "2020-05-13 00:30:43,819 : INFO : topic #5 (0.100): 0.000*\"u\" + 0.000*\"new\" + 0.000*\"iraq\" + 0.000*\"say\" + 0.000*\"study\" + 0.000*\"iran\" + 0.000*\"terror\" + 0.000*\"may\" + 0.000*\"korea\" + 0.000*\"plan\"\n",
      "2020-05-13 00:30:43,833 : INFO : topic #9 (0.100): 0.000*\"u\" + 0.000*\"new\" + 0.000*\"iraq\" + 0.000*\"say\" + 0.000*\"may\" + 0.000*\"study\" + 0.000*\"iran\" + 0.000*\"korea\" + 0.000*\"north\" + 0.000*\"terror\"\n",
      "2020-05-13 00:30:43,843 : INFO : topic #2 (0.100): 0.000*\"u\" + 0.000*\"iraq\" + 0.000*\"say\" + 0.000*\"may\" + 0.000*\"iran\" + 0.000*\"new\" + 0.000*\"study\" + 0.000*\"attack\" + 0.000*\"woman\" + 0.000*\"korea\"\n",
      "2020-05-13 00:30:43,854 : INFO : topic #6 (0.100): 0.000*\"u\" + 0.000*\"iraq\" + 0.000*\"say\" + 0.000*\"new\" + 0.000*\"may\" + 0.000*\"iran\" + 0.000*\"iraqi\" + 0.000*\"study\" + 0.000*\"korea\" + 0.000*\"woman\"\n",
      "2020-05-13 00:30:43,865 : INFO : topic diff=0.004615, rho=0.235702\n",
      "2020-05-13 00:30:44,237 : INFO : -8.393 per-word bound, 336.1 perplexity estimate based on a held-out corpus of 1 documents with 6407 words\n",
      "2020-05-13 00:30:44,237 : INFO : PROGRESS: pass 17, at document #1/1\n",
      "2020-05-13 00:30:44,306 : INFO : topic #6 (0.100): 0.000*\"u\" + 0.000*\"iraq\" + 0.000*\"say\" + 0.000*\"new\" + 0.000*\"may\" + 0.000*\"iran\" + 0.000*\"iraqi\" + 0.000*\"study\" + 0.000*\"korea\" + 0.000*\"woman\"\n",
      "2020-05-13 00:30:44,318 : INFO : topic #2 (0.100): 0.000*\"u\" + 0.000*\"iraq\" + 0.000*\"say\" + 0.000*\"may\" + 0.000*\"iran\" + 0.000*\"new\" + 0.000*\"study\" + 0.000*\"attack\" + 0.000*\"woman\" + 0.000*\"korea\"\n",
      "2020-05-13 00:30:44,334 : INFO : topic #8 (0.100): 0.000*\"u\" + 0.000*\"iraq\" + 0.000*\"iran\" + 0.000*\"say\" + 0.000*\"may\" + 0.000*\"new\" + 0.000*\"korea\" + 0.000*\"study\" + 0.000*\"china\" + 0.000*\"terror\"\n",
      "2020-05-13 00:30:44,347 : INFO : topic #7 (0.100): 0.000*\"iraq\" + 0.000*\"u\" + 0.000*\"new\" + 0.000*\"say\" + 0.000*\"iran\" + 0.000*\"may\" + 0.000*\"woman\" + 0.000*\"study\" + 0.000*\"terror\" + 0.000*\"korea\"\n",
      "2020-05-13 00:30:44,362 : INFO : topic #9 (0.100): 0.000*\"u\" + 0.000*\"new\" + 0.000*\"iraq\" + 0.000*\"say\" + 0.000*\"may\" + 0.000*\"study\" + 0.000*\"iran\" + 0.000*\"korea\" + 0.000*\"north\" + 0.000*\"terror\"\n",
      "2020-05-13 00:30:44,369 : INFO : topic diff=0.003454, rho=0.229416\n",
      "2020-05-13 00:30:44,845 : INFO : -8.393 per-word bound, 336.1 perplexity estimate based on a held-out corpus of 1 documents with 6407 words\n",
      "2020-05-13 00:30:44,845 : INFO : PROGRESS: pass 18, at document #1/1\n",
      "2020-05-13 00:30:44,951 : INFO : topic #0 (0.100): 0.000*\"u\" + 0.000*\"say\" + 0.000*\"iraq\" + 0.000*\"new\" + 0.000*\"may\" + 0.000*\"iraqi\" + 0.000*\"iran\" + 0.000*\"woman\" + 0.000*\"attack\" + 0.000*\"hit\"\n",
      "2020-05-13 00:30:44,965 : INFO : topic #8 (0.100): 0.000*\"u\" + 0.000*\"iraq\" + 0.000*\"iran\" + 0.000*\"say\" + 0.000*\"may\" + 0.000*\"new\" + 0.000*\"korea\" + 0.000*\"study\" + 0.000*\"china\" + 0.000*\"terror\"\n",
      "2020-05-13 00:30:44,979 : INFO : topic #5 (0.100): 0.000*\"u\" + 0.000*\"new\" + 0.000*\"iraq\" + 0.000*\"say\" + 0.000*\"study\" + 0.000*\"iran\" + 0.000*\"terror\" + 0.000*\"may\" + 0.000*\"korea\" + 0.000*\"plan\"\n",
      "2020-05-13 00:30:44,989 : INFO : topic #1 (0.100): 0.010*\"u\" + 0.006*\"iraq\" + 0.006*\"new\" + 0.006*\"say\" + 0.005*\"may\" + 0.004*\"iran\" + 0.004*\"study\" + 0.003*\"korea\" + 0.003*\"north\" + 0.003*\"iraqi\"\n",
      "2020-05-13 00:30:45,001 : INFO : topic #9 (0.100): 0.000*\"u\" + 0.000*\"new\" + 0.000*\"iraq\" + 0.000*\"say\" + 0.000*\"may\" + 0.000*\"study\" + 0.000*\"iran\" + 0.000*\"korea\" + 0.000*\"north\" + 0.000*\"terror\"\n",
      "2020-05-13 00:30:45,012 : INFO : topic diff=0.002602, rho=0.223607\n",
      "2020-05-13 00:30:45,372 : INFO : -8.393 per-word bound, 336.1 perplexity estimate based on a held-out corpus of 1 documents with 6407 words\n",
      "2020-05-13 00:30:45,372 : INFO : PROGRESS: pass 19, at document #1/1\n",
      "2020-05-13 00:30:45,502 : INFO : topic #9 (0.100): 0.000*\"u\" + 0.000*\"new\" + 0.000*\"iraq\" + 0.000*\"say\" + 0.000*\"may\" + 0.000*\"study\" + 0.000*\"iran\" + 0.000*\"korea\" + 0.000*\"north\" + 0.000*\"terror\"\n"
     ]
    },
    {
     "name": "stderr",
     "output_type": "stream",
     "text": [
      "2020-05-13 00:30:45,515 : INFO : topic #3 (0.100): 0.000*\"iraq\" + 0.000*\"u\" + 0.000*\"say\" + 0.000*\"iran\" + 0.000*\"study\" + 0.000*\"new\" + 0.000*\"may\" + 0.000*\"plan\" + 0.000*\"woman\" + 0.000*\"north\"\n",
      "2020-05-13 00:30:45,530 : INFO : topic #5 (0.100): 0.000*\"u\" + 0.000*\"new\" + 0.000*\"iraq\" + 0.000*\"say\" + 0.000*\"study\" + 0.000*\"iran\" + 0.000*\"terror\" + 0.000*\"may\" + 0.000*\"korea\" + 0.000*\"plan\"\n",
      "2020-05-13 00:30:45,539 : INFO : topic #8 (0.100): 0.000*\"u\" + 0.000*\"iraq\" + 0.000*\"iran\" + 0.000*\"say\" + 0.000*\"may\" + 0.000*\"new\" + 0.000*\"korea\" + 0.000*\"study\" + 0.000*\"china\" + 0.000*\"terror\"\n",
      "2020-05-13 00:30:45,552 : INFO : topic #2 (0.100): 0.000*\"u\" + 0.000*\"iraq\" + 0.000*\"say\" + 0.000*\"may\" + 0.000*\"iran\" + 0.000*\"new\" + 0.000*\"study\" + 0.000*\"attack\" + 0.000*\"woman\" + 0.000*\"korea\"\n",
      "2020-05-13 00:30:45,561 : INFO : topic diff=0.001972, rho=0.218218\n"
     ]
    }
   ],
   "source": [
    "# train model\n",
    "model = LdaModel(corpus=corpus, id2word=index_to_word, \n",
    "                 num_topics=num_topics, passes=passes,\n",
    "                 iterations=iterations)"
   ]
  },
  {
   "cell_type": "markdown",
   "metadata": {},
   "source": [
    "### Saving and Loading Model "
   ]
  },
  {
   "cell_type": "code",
   "execution_count": 32,
   "metadata": {
    "collapsed": true
   },
   "outputs": [],
   "source": [
    "def saveModel(model, file_name):\n",
    "    return  model.save(file_name)"
   ]
  },
  {
   "cell_type": "code",
   "execution_count": 33,
   "metadata": {},
   "outputs": [
    {
     "name": "stderr",
     "output_type": "stream",
     "text": [
      "2020-05-13 00:30:56,920 : INFO : saving LdaState object under LDA.model.state, separately None\n",
      "2020-05-13 00:30:56,937 : INFO : saved LDA.model.state\n",
      "2020-05-13 00:30:56,953 : INFO : saving LdaModel object under LDA.model, separately ['expElogbeta', 'sstats']\n",
      "2020-05-13 00:30:56,959 : INFO : storing np array 'expElogbeta' to LDA.model.expElogbeta.npy\n",
      "2020-05-13 00:30:56,974 : INFO : not storing attribute dispatcher\n",
      "2020-05-13 00:30:56,983 : INFO : not storing attribute id2word\n",
      "2020-05-13 00:30:56,993 : INFO : not storing attribute state\n",
      "2020-05-13 00:30:57,006 : INFO : saved LDA.model\n"
     ]
    }
   ],
   "source": [
    "file_name = 'LDA.model'\n",
    "saveModel(model, file_name)"
   ]
  },
  {
   "cell_type": "code",
   "execution_count": 34,
   "metadata": {
    "collapsed": true,
    "scrolled": true
   },
   "outputs": [],
   "source": [
    "def loadModel(file_name):\n",
    "    return model.load(file_name)"
   ]
  },
  {
   "cell_type": "code",
   "execution_count": 35,
   "metadata": {},
   "outputs": [
    {
     "name": "stderr",
     "output_type": "stream",
     "text": [
      "2020-05-13 00:31:08,732 : INFO : loading LdaModel object from LDA.model\n",
      "2020-05-13 00:31:08,785 : INFO : loading expElogbeta from LDA.model.expElogbeta.npy with mmap=None\n",
      "2020-05-13 00:31:08,949 : INFO : setting ignored attribute dispatcher to None\n",
      "2020-05-13 00:31:08,959 : INFO : setting ignored attribute id2word to None\n",
      "2020-05-13 00:31:08,969 : INFO : setting ignored attribute state to None\n",
      "2020-05-13 00:31:08,980 : INFO : loaded LDA.model\n",
      "2020-05-13 00:31:08,991 : INFO : loading LdaState object from LDA.model.state\n",
      "2020-05-13 00:31:09,175 : INFO : loaded LDA.model.state\n"
     ]
    }
   ],
   "source": [
    "model_LDA = loadModel(file_name)"
   ]
  },
  {
   "cell_type": "code",
   "execution_count": 36,
   "metadata": {
    "collapsed": true
   },
   "outputs": [],
   "source": [
    "def printTopics(model):\n",
    "    return pprint(model.print_topics())"
   ]
  },
  {
   "cell_type": "code",
   "execution_count": 37,
   "metadata": {},
   "outputs": [
    {
     "name": "stderr",
     "output_type": "stream",
     "text": [
      "2020-05-13 00:31:12,777 : INFO : topic #0 (0.100): 0.000*\"u\" + 0.000*\"say\" + 0.000*\"iraq\" + 0.000*\"new\" + 0.000*\"may\" + 0.000*\"iraqi\" + 0.000*\"iran\" + 0.000*\"woman\" + 0.000*\"attack\" + 0.000*\"hit\"\n",
      "2020-05-13 00:31:12,786 : INFO : topic #1 (0.100): 0.010*\"u\" + 0.006*\"iraq\" + 0.006*\"new\" + 0.006*\"say\" + 0.005*\"may\" + 0.004*\"iran\" + 0.004*\"study\" + 0.003*\"korea\" + 0.003*\"north\" + 0.003*\"iraqi\"\n",
      "2020-05-13 00:31:12,797 : INFO : topic #2 (0.100): 0.000*\"u\" + 0.000*\"iraq\" + 0.000*\"say\" + 0.000*\"may\" + 0.000*\"iran\" + 0.000*\"new\" + 0.000*\"study\" + 0.000*\"attack\" + 0.000*\"woman\" + 0.000*\"korea\"\n",
      "2020-05-13 00:31:12,806 : INFO : topic #3 (0.100): 0.000*\"iraq\" + 0.000*\"u\" + 0.000*\"say\" + 0.000*\"iran\" + 0.000*\"study\" + 0.000*\"new\" + 0.000*\"may\" + 0.000*\"plan\" + 0.000*\"woman\" + 0.000*\"north\"\n",
      "2020-05-13 00:31:12,813 : INFO : topic #4 (0.100): 0.000*\"u\" + 0.000*\"new\" + 0.000*\"say\" + 0.000*\"iraq\" + 0.000*\"iran\" + 0.000*\"may\" + 0.000*\"north\" + 0.000*\"korea\" + 0.000*\"heart\" + 0.000*\"iraqi\"\n",
      "2020-05-13 00:31:12,818 : INFO : topic #5 (0.100): 0.000*\"u\" + 0.000*\"new\" + 0.000*\"iraq\" + 0.000*\"say\" + 0.000*\"study\" + 0.000*\"iran\" + 0.000*\"terror\" + 0.000*\"may\" + 0.000*\"korea\" + 0.000*\"plan\"\n",
      "2020-05-13 00:31:12,825 : INFO : topic #6 (0.100): 0.000*\"u\" + 0.000*\"iraq\" + 0.000*\"say\" + 0.000*\"new\" + 0.000*\"may\" + 0.000*\"iran\" + 0.000*\"iraqi\" + 0.000*\"study\" + 0.000*\"korea\" + 0.000*\"woman\"\n",
      "2020-05-13 00:31:12,838 : INFO : topic #7 (0.100): 0.000*\"iraq\" + 0.000*\"u\" + 0.000*\"new\" + 0.000*\"say\" + 0.000*\"iran\" + 0.000*\"may\" + 0.000*\"woman\" + 0.000*\"study\" + 0.000*\"terror\" + 0.000*\"korea\"\n",
      "2020-05-13 00:31:12,849 : INFO : topic #8 (0.100): 0.000*\"u\" + 0.000*\"iraq\" + 0.000*\"iran\" + 0.000*\"say\" + 0.000*\"may\" + 0.000*\"new\" + 0.000*\"korea\" + 0.000*\"study\" + 0.000*\"china\" + 0.000*\"terror\"\n",
      "2020-05-13 00:31:12,860 : INFO : topic #9 (0.100): 0.000*\"u\" + 0.000*\"new\" + 0.000*\"iraq\" + 0.000*\"say\" + 0.000*\"may\" + 0.000*\"study\" + 0.000*\"iran\" + 0.000*\"korea\" + 0.000*\"north\" + 0.000*\"terror\"\n"
     ]
    },
    {
     "name": "stdout",
     "output_type": "stream",
     "text": [
      "[(0,\n",
      "  '0.000*\"u\" + 0.000*\"say\" + 0.000*\"iraq\" + 0.000*\"new\" + 0.000*\"may\" + '\n",
      "  '0.000*\"iraqi\" + 0.000*\"iran\" + 0.000*\"woman\" + 0.000*\"attack\" + '\n",
      "  '0.000*\"hit\"'),\n",
      " (1,\n",
      "  '0.010*\"u\" + 0.006*\"iraq\" + 0.006*\"new\" + 0.006*\"say\" + 0.005*\"may\" + '\n",
      "  '0.004*\"iran\" + 0.004*\"study\" + 0.003*\"korea\" + 0.003*\"north\" + '\n",
      "  '0.003*\"iraqi\"'),\n",
      " (2,\n",
      "  '0.000*\"u\" + 0.000*\"iraq\" + 0.000*\"say\" + 0.000*\"may\" + 0.000*\"iran\" + '\n",
      "  '0.000*\"new\" + 0.000*\"study\" + 0.000*\"attack\" + 0.000*\"woman\" + '\n",
      "  '0.000*\"korea\"'),\n",
      " (3,\n",
      "  '0.000*\"iraq\" + 0.000*\"u\" + 0.000*\"say\" + 0.000*\"iran\" + 0.000*\"study\" + '\n",
      "  '0.000*\"new\" + 0.000*\"may\" + 0.000*\"plan\" + 0.000*\"woman\" + 0.000*\"north\"'),\n",
      " (4,\n",
      "  '0.000*\"u\" + 0.000*\"new\" + 0.000*\"say\" + 0.000*\"iraq\" + 0.000*\"iran\" + '\n",
      "  '0.000*\"may\" + 0.000*\"north\" + 0.000*\"korea\" + 0.000*\"heart\" + '\n",
      "  '0.000*\"iraqi\"'),\n",
      " (5,\n",
      "  '0.000*\"u\" + 0.000*\"new\" + 0.000*\"iraq\" + 0.000*\"say\" + 0.000*\"study\" + '\n",
      "  '0.000*\"iran\" + 0.000*\"terror\" + 0.000*\"may\" + 0.000*\"korea\" + 0.000*\"plan\"'),\n",
      " (6,\n",
      "  '0.000*\"u\" + 0.000*\"iraq\" + 0.000*\"say\" + 0.000*\"new\" + 0.000*\"may\" + '\n",
      "  '0.000*\"iran\" + 0.000*\"iraqi\" + 0.000*\"study\" + 0.000*\"korea\" + '\n",
      "  '0.000*\"woman\"'),\n",
      " (7,\n",
      "  '0.000*\"iraq\" + 0.000*\"u\" + 0.000*\"new\" + 0.000*\"say\" + 0.000*\"iran\" + '\n",
      "  '0.000*\"may\" + 0.000*\"woman\" + 0.000*\"study\" + 0.000*\"terror\" + '\n",
      "  '0.000*\"korea\"'),\n",
      " (8,\n",
      "  '0.000*\"u\" + 0.000*\"iraq\" + 0.000*\"iran\" + 0.000*\"say\" + 0.000*\"may\" + '\n",
      "  '0.000*\"new\" + 0.000*\"korea\" + 0.000*\"study\" + 0.000*\"china\" + '\n",
      "  '0.000*\"terror\"'),\n",
      " (9,\n",
      "  '0.000*\"u\" + 0.000*\"new\" + 0.000*\"iraq\" + 0.000*\"say\" + 0.000*\"may\" + '\n",
      "  '0.000*\"study\" + 0.000*\"iran\" + 0.000*\"korea\" + 0.000*\"north\" + '\n",
      "  '0.000*\"terror\"')]\n"
     ]
    }
   ],
   "source": [
    "# show top topics\n",
    "printTopics(model_LDA)"
   ]
  },
  {
   "cell_type": "markdown",
   "metadata": {
    "collapsed": true
   },
   "source": [
    "### Model Evaluation\n",
    "calculates the C_v topic coherence using gensim CoherenceModel"
   ]
  },
  {
   "cell_type": "code",
   "execution_count": 38,
   "metadata": {
    "collapsed": true
   },
   "outputs": [],
   "source": [
    "def modelCoherence(model, texts, dictionary):\n",
    "    # uses C_v topic coherence by default\n",
    "    c_v_coherence = CoherenceModel(model=model, texts=texts,\n",
    "                                   dictionary=dictionary)\n",
    "    c_v_coherence = c_v_coherence.get_coherence()\n",
    "    return c_v_coherence"
   ]
  },
  {
   "cell_type": "code",
   "execution_count": 39,
   "metadata": {
    "collapsed": true
   },
   "outputs": [],
   "source": [
    "def texts(article):\n",
    "    return _format_for_vector(article)"
   ]
  },
  {
   "cell_type": "code",
   "execution_count": 40,
   "metadata": {
    "collapsed": true
   },
   "outputs": [],
   "source": [
    "texts = texts(article)"
   ]
  },
  {
   "cell_type": "code",
   "execution_count": 41,
   "metadata": {
    "scrolled": true
   },
   "outputs": [
    {
     "name": "stderr",
     "output_type": "stream",
     "text": [
      "2020-05-13 00:31:29,284 : INFO : using WordOccurrenceAccumulator to estimate probabilities from sliding windows\n",
      "2020-05-13 00:31:29,492 : INFO : WordOccurrenceAccumulator accumulated stats from 1000 documents\n",
      "2020-05-13 00:31:29,747 : INFO : WordOccurrenceAccumulator accumulated stats from 2000 documents\n",
      "2020-05-13 00:31:29,962 : INFO : WordOccurrenceAccumulator accumulated stats from 3000 documents\n",
      "2020-05-13 00:31:30,225 : INFO : WordOccurrenceAccumulator accumulated stats from 4000 documents\n",
      "2020-05-13 00:31:30,461 : INFO : WordOccurrenceAccumulator accumulated stats from 5000 documents\n",
      "2020-05-13 00:31:30,645 : INFO : WordOccurrenceAccumulator accumulated stats from 6000 documents\n"
     ]
    }
   ],
   "source": [
    "topic_coherence = modelCoherence(model_LDA, texts, dictionary)"
   ]
  },
  {
   "cell_type": "code",
   "execution_count": 42,
   "metadata": {},
   "outputs": [
    {
     "name": "stdout",
     "output_type": "stream",
     "text": [
      " C_v topic coherence is: 0.2625770788014635\n"
     ]
    }
   ],
   "source": [
    "print (\" C_v topic coherence is: {}\".format(topic_coherence))"
   ]
  },
  {
   "cell_type": "markdown",
   "metadata": {},
   "source": [
    "### Model Visualization"
   ]
  },
  {
   "cell_type": "code",
   "execution_count": 43,
   "metadata": {
    "collapsed": true
   },
   "outputs": [],
   "source": [
    "def words_importance(model):\n",
    "    fig = plt.figure(figsize=(15,39))\n",
    "    for i in range(num_topics):\n",
    "        # create dataframe of model topics\n",
    "        data_frame =pd.DataFrame(model.show_topic(i), \n",
    "                                 columns=\n",
    "                                 ['term','prob']).set_index('term')\n",
    "        plt.subplot(5,2,i+1)\n",
    "        plt.title('topic '+str(i+1))\n",
    "        sns.barplot(x='prob', y=data_frame.index, data=data_frame,\n",
    "                   label='Cities', palette='Reds_d')\n",
    "        plt.xlabel('probability')"
   ]
  },
  {
   "cell_type": "code",
   "execution_count": 44,
   "metadata": {
    "scrolled": false
   },
   "outputs": [
    {
     "data": {
      "image/png": "[encoded data removed]",
      "text/plain": [
       "<Figure size 1080x2808 with 10 Axes>"
      ]
     },
     "metadata": {},
     "output_type": "display_data"
    }
   ],
   "source": [
    "# show top topics\n",
    "plt.show(words_importance(model_LDA))"
   ]
  },
  {
   "cell_type": "code",
   "execution_count": 45,
   "metadata": {
    "collapsed": true
   },
   "outputs": [],
   "source": [
    "pyLDAvis.enable_notebook() # view in Ipython"
   ]
  },
  {
   "cell_type": "code",
   "execution_count": 46,
   "metadata": {
    "collapsed": true
   },
   "outputs": [],
   "source": [
    "def viewModel(model, corpus, dictionary):\n",
    "    return pyLDAvis.gensim.prepare(\n",
    "        model, corpus, dictionary)"
   ]
  },
  {
   "cell_type": "code",
   "execution_count": 47,
   "metadata": {
    "collapsed": true
   },
   "outputs": [],
   "source": [
    "view_model = viewModel(model_LDA, corpus, dictionary)"
   ]
  },
  {
   "cell_type": "code",
   "execution_count": null,
   "metadata": {},
   "outputs": [
    {
     "name": "stdout",
     "output_type": "stream",
     "text": [
      "\n",
      "Note: if you're in the IPython notebook, pyLDAvis.show() is not the best command\n",
      "      to use. Consider using pyLDAvis.display(), or pyLDAvis.enable_notebook().\n",
      "      See more information at http://pyLDAvis.github.io/quickstart.html .\n",
      "\n",
      "You must interrupt the kernel to end this command\n",
      "\n",
      "Serving to http://127.0.0.1:8889/    [Ctrl-C to exit]\n"
     ]
    },
    {
     "name": "stderr",
     "output_type": "stream",
     "text": [
      "127.0.0.1 - - [13/May/2020 00:47:56] \"GET / HTTP/1.1\" 200 -\n",
      "127.0.0.1 - - [13/May/2020 00:48:03] \"GET /LDAvis.css HTTP/1.1\" 200 -\n"
     ]
    }
   ],
   "source": [
    "## use pyLDAvis.show() if pyLDAvis.display() does no work; igore warning\n",
    "# pyLDAvis.display(view_model)\n",
    "pyLDAvis.show(view_model) "
   ]
  },
  {
   "cell_type": "code",
   "execution_count": null,
   "metadata": {
    "collapsed": true
   },
   "outputs": [],
   "source": []
  }
 ],
 "metadata": {
  "kernelspec": {
   "display_name": "Python 3",
   "language": "python",
   "name": "python3"
  },
  "language_info": {
   "codemirror_mode": {
    "name": "ipython",
    "version": 3
   },
   "file_extension": ".py",
   "mimetype": "text/x-python",
   "name": "python",
   "nbconvert_exporter": "python",
   "pygments_lexer": "ipython3",
   "version": "3.6.7"
  }
 },
 "nbformat": 4,
 "nbformat_minor": 2
}
